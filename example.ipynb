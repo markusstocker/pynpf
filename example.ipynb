{
 "cells": [
  {
   "cell_type": "code",
   "execution_count": null,
   "metadata": {},
   "outputs": [],
   "source": [
    "from smear.datafetcher import fetchdata\n",
    "from smear.dataplotter import plotdata\n",
    "\n",
    "# Fetch and plot concentration data for the given time and location \n",
    "# from SmartSMEAR, https://avaa.tdata.fi/web/smart\n",
    "plotdata(fetchdata('2013-04-04', 'Hyytiälä'))"
   ]
  },
  {
   "cell_type": "code",
   "execution_count": null,
   "metadata": {},
   "outputs": [],
   "source": [
    "from smear.datafetcher import fetchdata\n",
    "from factory import assess\n",
    "\n",
    "# Automated assessment for whether or not an event occurred\n",
    "assess(fetchdata('2013-04-04', 'Hyytiälä'))"
   ]
  },
  {
   "cell_type": "code",
   "execution_count": null,
   "metadata": {
    "collapsed": true
   },
   "outputs": [],
   "source": [
    "from factory import record, event\n",
    "\n",
    "# Record information about the new particle formation event\n",
    "record(event('2013-04-04', 'Hyytiälä', '11:00', '19:00', 'Class Ia'))"
   ]
  },
  {
   "cell_type": "code",
   "execution_count": 1,
   "metadata": {},
   "outputs": [
    {
     "data": {
      "application/vnd.jupyter.widget-view+json": {
       "model_id": "9b698d87dfab4ee097d5865cdfe62c33"
      }
     },
     "metadata": {},
     "output_type": "display_data"
    }
   ],
   "source": [
    "from processing.visualization import imap\n",
    "from factory import events\n",
    "\n",
    "# Visualize event locations on an interactive map\n",
    "imap(events())"
   ]
  },
  {
   "cell_type": "code",
   "execution_count": null,
   "metadata": {},
   "outputs": [],
   "source": [
    "from processing.visualization import smap\n",
    "from factory import events\n",
    "\n",
    "# Visualize event locations on a static map\n",
    "smap(events())"
   ]
  },
  {
   "cell_type": "code",
   "execution_count": null,
   "metadata": {},
   "outputs": [],
   "source": [
    "from processing.statistics import duration\n",
    "from factory import events\n",
    "\n",
    "# Compute the average duration of events, possibly at specific locations\n",
    "duration(events(), fun='avg')"
   ]
  },
  {
   "cell_type": "code",
   "execution_count": null,
   "metadata": {},
   "outputs": [],
   "source": [
    "from processing.description import describe\n",
    "from factory import events\n",
    "\n",
    "# Describe an event in plain English text\n",
    "describe(events(place='Hyytiälä'), format='text')"
   ]
  },
  {
   "cell_type": "code",
   "execution_count": null,
   "metadata": {},
   "outputs": [],
   "source": [
    "from factory import events\n",
    "from processing.description import describe\n",
    "\n",
    "# Describe an event with information in machine readable format \n",
    "describe(events('2013-04-04', 'Hyytiälä'), format='rdf')"
   ]
  }
 ],
 "metadata": {
  "kernelspec": {
   "display_name": "Python 3",
   "language": "python",
   "name": "python3"
  },
  "language_info": {
   "codemirror_mode": {
    "name": "ipython",
    "version": 3
   },
   "file_extension": ".py",
   "mimetype": "text/x-python",
   "name": "python",
   "nbconvert_exporter": "python",
   "pygments_lexer": "ipython3",
   "version": "3.5.2"
  },
  "widgets": {
   "application/vnd.jupyter.widget-state+json": {
    "state": {
     "2126eacf9a4d42d9bc573c7db2f38d9f": {
      "model_module": "jupyter-leaflet",
      "model_module_version": "*",
      "model_name": "LeafletMarkerModel",
      "state": {
       "_model_module_version": "*",
       "_view_module_version": "*",
       "location": [
        67.46535,
        27.99231
       ],
       "msg_throttle": 1,
       "options": [
        "opacity",
        "clickable",
        "rise_on_hover",
        "alt",
        "z_index_offset",
        "rise_offset",
        "keyboard",
        "draggable",
        "title"
       ],
       "title": "Värriö"
      }
     },
     "415f269c71814f749a6279da5577c0d1": {
      "model_module": "jupyter-leaflet",
      "model_module_version": "*",
      "model_name": "LeafletMarkerModel",
      "state": {
       "_model_module_version": "*",
       "_view_module_version": "*",
       "location": [
        62.91667,
        27.65
       ],
       "msg_throttle": 1,
       "options": [
        "opacity",
        "clickable",
        "rise_on_hover",
        "alt",
        "z_index_offset",
        "rise_offset",
        "keyboard",
        "draggable",
        "title"
       ],
       "title": "Puijo"
      }
     },
     "6b1ac9ff5df64f318cb7edd70781f3f7": {
      "model_module": "jupyter-leaflet",
      "model_module_version": "*",
      "model_name": "LeafletTileLayerModel",
      "state": {
       "_model_module_version": "*",
       "_view_module_version": "*",
       "msg_throttle": 1,
       "options": [
        "opacity",
        "tile_size",
        "min_zoom",
        "max_zoom",
        "detect_retina",
        "attribution"
       ]
      }
     },
     "76af5bf4a7524821b2b1f131639237a1": {
      "model_module": "jupyter-js-widgets",
      "model_module_version": "~2.1.4",
      "model_name": "LayoutModel",
      "state": {
       "_model_module_version": "~2.1.4",
       "_view_module_version": "~2.1.4",
       "align_self": "stretch",
       "height": "400px"
      }
     },
     "841811f2e9f340c4a5f4f36023d276b0": {
      "model_module": "jupyter-js-widgets",
      "model_module_version": "~2.1.4",
      "model_name": "LayoutModel",
      "state": {
       "_model_module_version": "~2.1.4",
       "_view_module_version": "~2.1.4",
       "align_self": "stretch",
       "height": "400px"
      }
     },
     "9b698d87dfab4ee097d5865cdfe62c33": {
      "model_module": "jupyter-leaflet",
      "model_module_version": "*",
      "model_name": "LeafletMapModel",
      "state": {
       "_dom_classes": [],
       "_east": 69.9609375,
       "_model_module_version": "*",
       "_north": 70.78690984117928,
       "_south": 55.27911529201561,
       "_view_module_version": "*",
       "_west": -16.69921875,
       "center": [
        64.09140752262307,
        26.630859375
       ],
       "layers": [
        "IPY_MODEL_6b1ac9ff5df64f318cb7edd70781f3f7",
        "IPY_MODEL_2126eacf9a4d42d9bc573c7db2f38d9f",
        "IPY_MODEL_e9851f29d82f4e569c6134149a65efb4",
        "IPY_MODEL_415f269c71814f749a6279da5577c0d1"
       ],
       "layout": "IPY_MODEL_841811f2e9f340c4a5f4f36023d276b0",
       "msg_throttle": 1,
       "options": [
        "close_popup_on_click",
        "keyboard_pan_offset",
        "max_zoom",
        "inertia_max_speed",
        "touch_zoom",
        "dragging",
        "keyboard_zoom_offset",
        "bounce_at_zoom_limits",
        "scroll_wheel_zoom",
        "keyboard",
        "inertia",
        "box_zoom",
        "zoom_animation_threshold",
        "min_zoom",
        "zoom",
        "world_copy_jump",
        "zoom_control",
        "zoom_start",
        "tap",
        "attribution_control",
        "inertia_deceleration",
        "tap_tolerance",
        "double_click_zoom",
        "center"
       ],
       "zoom": 4
      }
     },
     "ba99c11e83b446c088876f15f8c772bc": {
      "model_module": "jupyter-leaflet",
      "model_module_version": "*",
      "model_name": "LeafletMapModel",
      "state": {
       "_dom_classes": [],
       "_east": 346.64062499999994,
       "_model_module_version": "*",
       "_north": 80.17871349622823,
       "_south": -80.17871349622823,
       "_view_module_version": "*",
       "_west": -346.64062499999994,
       "layers": [
        "IPY_MODEL_f9f5aaa75bfe4cf4bb997082247ffbc3"
       ],
       "layout": "IPY_MODEL_76af5bf4a7524821b2b1f131639237a1",
       "msg_throttle": 1,
       "options": [
        "zoom_animation_threshold",
        "box_zoom",
        "world_copy_jump",
        "scroll_wheel_zoom",
        "zoom_start",
        "tap",
        "attribution_control",
        "keyboard",
        "zoom",
        "inertia_max_speed",
        "dragging",
        "keyboard_zoom_offset",
        "center",
        "inertia_deceleration",
        "inertia",
        "zoom_control",
        "min_zoom",
        "close_popup_on_click",
        "bounce_at_zoom_limits",
        "double_click_zoom",
        "touch_zoom",
        "keyboard_pan_offset",
        "tap_tolerance",
        "max_zoom"
       ],
       "zoom": 1
      }
     },
     "e9851f29d82f4e569c6134149a65efb4": {
      "model_module": "jupyter-leaflet",
      "model_module_version": "*",
      "model_name": "LeafletMarkerModel",
      "state": {
       "_model_module_version": "*",
       "_view_module_version": "*",
       "location": [
        61.84562,
        24.29077
       ],
       "msg_throttle": 1,
       "options": [
        "opacity",
        "clickable",
        "rise_on_hover",
        "alt",
        "z_index_offset",
        "rise_offset",
        "keyboard",
        "draggable",
        "title"
       ],
       "title": "Hyytiälä"
      }
     },
     "f9f5aaa75bfe4cf4bb997082247ffbc3": {
      "model_module": "jupyter-leaflet",
      "model_module_version": "*",
      "model_name": "LeafletTileLayerModel",
      "state": {
       "_model_module_version": "*",
       "_view_module_version": "*",
       "msg_throttle": 1,
       "options": [
        "detect_retina",
        "opacity",
        "attribution",
        "tile_size",
        "max_zoom",
        "min_zoom"
       ]
      }
     }
    },
    "version_major": 1,
    "version_minor": 0
   }
  }
 },
 "nbformat": 4,
 "nbformat_minor": 1
}

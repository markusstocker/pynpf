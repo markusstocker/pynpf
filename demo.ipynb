{
 "cells": [
  {
   "cell_type": "code",
   "execution_count": 18,
   "metadata": {
    "collapsed": true,
    "deletable": false,
    "editable": true
   },
   "outputs": [],
   "source": [
    "from smear.datafetcher import fetchdata\n",
    "from smear.dataplotter import plotdata\n",
    "from factory import record, event, events\n",
    "from processing.visualization import map\n",
    "from processing.statistics import duration\n",
    "from processing.description import describe"
   ]
  },
  {
   "cell_type": "markdown",
   "metadata": {
    "deletable": false,
    "editable": true
   },
   "source": [
    "**Commands** \n",
    "\n",
    "plotdata(fetchdata(date, place))\n",
    "\n",
    "record(event(date, place, beginning=None, end=None, classification=None))\n",
    "\n",
    "map(events())\n",
    "\n",
    "duration(events(place=None), fun=None)\n",
    "\n",
    "describe(events(date, place), 'text')\n",
    "\n",
    "**Examples**\n",
    "\n",
    "* 2013-04-04, Hyytiälä, Class Ia\n",
    "* 2012-09-07, Hyytiälä, None\n",
    "* 2015-03-10, Värriö, Class Ib\n",
    "* 2011-06-05, Puijo, Class Ia"
   ]
  },
  {
   "cell_type": "code",
   "execution_count": 19,
   "metadata": {
    "collapsed": true,
    "deletable": false,
    "editable": true
   },
   "outputs": [],
   "source": [
    "date = None\n",
    "place = None"
   ]
  }
 ],
 "metadata": {
  "kernelspec": {
   "display_name": "Python 3",
   "language": "python",
   "name": "python3"
  },
  "language_info": {
   "codemirror_mode": {
    "name": "ipython",
    "version": 3
   },
   "file_extension": ".py",
   "mimetype": "text/x-python",
   "name": "python",
   "nbconvert_exporter": "python",
   "pygments_lexer": "ipython3",
   "version": "3.5.2"
  }
 },
 "nbformat": 4,
 "nbformat_minor": 0
}

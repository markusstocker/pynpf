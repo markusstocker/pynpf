{
 "cells": [
  {
   "cell_type": "code",
   "execution_count": 1,
   "metadata": {
    "collapsed": true,
    "deletable": false
   },
   "outputs": [],
   "source": [
    "from smear.datafetcher import fetchdata\n",
    "from smear.datareader import readdata\n",
    "from smear.dataplotter import plotdata\n",
    "from smear.datareader import readdata\n",
    "from smear.datawriter import writedata\n",
    "from factory import assess, record, event, events\n",
    "from processing.visualization import smap, imap\n",
    "from processing.statistics import duration\n",
    "from processing.description import describe"
   ]
  },
  {
   "cell_type": "markdown",
   "metadata": {
    "deletable": false
   },
   "source": [
    "**Commands** \n",
    "\n",
    "plotdata(fetchdata(date, place))\n",
    "\n",
    "writedata(fetchdata(date, place), file)\n",
    "\n",
    "readdata(file)\n",
    "\n",
    "assess(fetchdata(date, place))\n",
    "\n",
    "record(event(date, place, beginning=None, end=None, classification=None))\n",
    "\n",
    "smap(events())\n",
    "\n",
    "imap(events())\n",
    "\n",
    "duration(events(place=None), fun=None)\n",
    "\n",
    "describe(events(date, place), format='text')\n",
    "\n",
    "**Examples**\n",
    "\n",
    "* 2013-04-04, Hyytiälä, 11:00, 19:00, Class Ia\n",
    "* 2012-09-07, Hyytiälä, None\n",
    "* 2015-03-10, Värriö, 09:00, 15:00, Class Ib\n",
    "* 2011-06-05, Puijo, 10:00, 17:00, Class Ia\n",
    "\n",
    "**Files**\n",
    "\n",
    "* /tmp/hyytiaelae_2013-04-04.csv\n",
    "* /tmp/vaerrioe_2015-03-10.csv\n",
    "* /tmp/puijo_2011-06-05.csv\n",
    "\n",
    "**Duration functions**: avg, min, max\n",
    "\n",
    "**Description Formats**: text, rdf"
   ]
  },
  {
   "cell_type": "code",
   "execution_count": 2,
   "metadata": {
    "collapsed": true,
    "deletable": false
   },
   "outputs": [],
   "source": [
    "date = None\n",
    "place = None\n",
    "file = None"
   ]
  }
 ],
 "metadata": {
  "kernelspec": {
   "display_name": "Python 3",
   "language": "python",
   "name": "python3"
  },
  "language_info": {
   "codemirror_mode": {
    "name": "ipython",
    "version": 3
   },
   "file_extension": ".py",
   "mimetype": "text/x-python",
   "name": "python",
   "nbconvert_exporter": "python",
   "pygments_lexer": "ipython3",
   "version": "3.5.2"
  }
 },
 "nbformat": 4,
 "nbformat_minor": 1
}
